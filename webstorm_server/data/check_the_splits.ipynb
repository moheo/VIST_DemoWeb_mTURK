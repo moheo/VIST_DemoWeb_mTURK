{
 "cells": [
  {
   "cell_type": "code",
   "execution_count": 1,
   "metadata": {},
   "outputs": [],
   "source": [
    "import json"
   ]
  },
  {
   "cell_type": "code",
   "execution_count": 2,
   "metadata": {},
   "outputs": [],
   "source": [
    "with open(\"human_splits/human_normtxt_spl_0.json\") as h0, open(\"glacnet_splits/glacnet_normtxt_spl_0.json\") as g0:\n",
    "    hdict, gdict = json.load(h0), json.load(g0)"
   ]
  },
  {
   "cell_type": "code",
   "execution_count": 3,
   "metadata": {},
   "outputs": [
    {
     "data": {
      "text/plain": [
       "40"
      ]
     },
     "execution_count": 3,
     "metadata": {},
     "output_type": "execute_result"
    }
   ],
   "source": [
    "len(sorted(list(gdict.keys())))"
   ]
  },
  {
   "cell_type": "code",
   "execution_count": 4,
   "metadata": {},
   "outputs": [
    {
     "data": {
      "text/plain": [
       "False"
      ]
     },
     "execution_count": 4,
     "metadata": {},
     "output_type": "execute_result"
    }
   ],
   "source": [
    "sorted(list(gdict.values())) == sorted(list(hdict.values()))"
   ]
  },
  {
   "cell_type": "code",
   "execution_count": 8,
   "metadata": {},
   "outputs": [],
   "source": [
    "def is_sorted_same(iter1, iter2):\n",
    "    return sorted(list(iter1)) == sorted(list(iter2))\n",
    "    \n",
    "def check_datasplits(hpath, gpath):\n",
    "    for i in range(5):\n",
    "        with open(\"{hpath}/{name}_normtxt_spl_{idx}.json\".format(hpath= hpath, name=hpath.split(\"_\")[0], idx =i), \"r\") as h, \\\n",
    "        open(\"{gpath}/{name}_normtxt_spl_{idx}.json\".format(gpath = gpath, name=gpath.split(\"_\")[0], idx = i), \"r\") as g:\n",
    "            h_d = json.load(h)\n",
    "            g_d = json.load(g)\n",
    "            if is_sorted_same(h_d.keys(), g_d.keys()): pass\n",
    "            if is_sorted_same(h_d.values(), g_d.values()): print(\"has problem\"); return None\n",
    "    print(\"alright all is good!\")\n",
    "    return True"
   ]
  },
  {
   "cell_type": "code",
   "execution_count": 10,
   "metadata": {},
   "outputs": [
    {
     "name": "stdout",
     "output_type": "stream",
     "text": [
      "alright all is good!\n"
     ]
    },
    {
     "data": {
      "text/plain": [
       "True"
      ]
     },
     "execution_count": 10,
     "metadata": {},
     "output_type": "execute_result"
    }
   ],
   "source": [
    "check_datasplits(\"human_splits/\", \"glacnet_splits/\")"
   ]
  },
  {
   "cell_type": "code",
   "execution_count": null,
   "metadata": {},
   "outputs": [],
   "source": []
  }
 ],
 "metadata": {
  "kernelspec": {
   "display_name": "Python [conda env:dl]",
   "language": "python",
   "name": "conda-env-dl-py"
  },
  "language_info": {
   "codemirror_mode": {
    "name": "ipython",
    "version": 3
   },
   "file_extension": ".py",
   "mimetype": "text/x-python",
   "name": "python",
   "nbconvert_exporter": "python",
   "pygments_lexer": "ipython3",
   "version": "3.6.3"
  }
 },
 "nbformat": 4,
 "nbformat_minor": 2
}
