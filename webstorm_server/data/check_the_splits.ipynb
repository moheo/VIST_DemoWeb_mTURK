{
 "cells": [
  {
   "cell_type": "code",
   "execution_count": 2,
   "metadata": {},
   "outputs": [],
   "source": [
    "import json"
   ]
  },
  {
   "cell_type": "code",
   "execution_count": 3,
   "metadata": {},
   "outputs": [],
   "source": [
    "with open(\"mmtest_splits/mmtest_spl_0.json\") as m0, open(\"crcn_splits/crcn_spl_0.json\") as c0:\n",
    "    cdict, mdict = json.load(c0), json.load(m0)"
   ]
  },
  {
   "cell_type": "code",
   "execution_count": 8,
   "metadata": {},
   "outputs": [
    {
     "data": {
      "text/plain": [
       "['45696',\n",
       " '45920',\n",
       " '46145',\n",
       " '46231',\n",
       " '46270',\n",
       " '46326',\n",
       " '46411',\n",
       " '46546',\n",
       " '46691',\n",
       " '46721',\n",
       " '46761',\n",
       " '46876',\n",
       " '47325',\n",
       " '47355',\n",
       " '47410',\n",
       " '47436',\n",
       " '47466',\n",
       " '47506',\n",
       " '47530',\n",
       " '47771',\n",
       " '47890',\n",
       " '47926',\n",
       " '48191',\n",
       " '48221',\n",
       " '48230',\n",
       " '48551',\n",
       " '48866',\n",
       " '49016',\n",
       " '49180',\n",
       " '49305',\n",
       " '49316',\n",
       " '49381',\n",
       " '49475',\n",
       " '49630',\n",
       " '49716',\n",
       " '49785',\n",
       " '49811',\n",
       " '49861',\n",
       " '50161',\n",
       " '50391']"
      ]
     },
     "execution_count": 8,
     "metadata": {},
     "output_type": "execute_result"
    }
   ],
   "source": [
    "(sorted(list(mdict.keys())))"
   ]
  },
  {
   "cell_type": "code",
   "execution_count": 11,
   "metadata": {},
   "outputs": [
    {
     "data": {
      "text/plain": [
       "True"
      ]
     },
     "execution_count": 11,
     "metadata": {},
     "output_type": "execute_result"
    }
   ],
   "source": [
    "sorted(list(cdict.keys()))  == sorted (list(mdict.keys()))"
   ]
  },
  {
   "cell_type": "code",
   "execution_count": 8,
   "metadata": {},
   "outputs": [],
   "source": [
    "def is_sorted_same(iter1, iter2):\n",
    "    return sorted(list(iter1)) == sorted(list(iter2))\n",
    "    \n",
    "def check_datasplits(hpath, gpath):\n",
    "    for i in range(5):\n",
    "        with open(\"{hpath}/{name}_normtxt_spl_{idx}.json\".format(hpath= hpath, name=hpath.split(\"_\")[0], idx =i), \"r\") as h, \\\n",
    "        open(\"{gpath}/{name}_normtxt_spl_{idx}.json\".format(gpath = gpath, name=gpath.split(\"_\")[0], idx = i), \"r\") as g:\n",
    "            h_d = json.load(h)\n",
    "            g_d = json.load(g)\n",
    "            if is_sorted_same(h_d.keys(), g_d.keys()): pass\n",
    "            if is_sorted_same(h_d.values(), g_d.values()): print(\"has problem\"); return None\n",
    "    print(\"alright all is good!\")\n",
    "    return True"
   ]
  },
  {
   "cell_type": "code",
   "execution_count": 10,
   "metadata": {},
   "outputs": [
    {
     "name": "stdout",
     "output_type": "stream",
     "text": [
      "alright all is good!\n"
     ]
    },
    {
     "data": {
      "text/plain": [
       "True"
      ]
     },
     "execution_count": 10,
     "metadata": {},
     "output_type": "execute_result"
    }
   ],
   "source": [
    "check_datasplits(\"human_splits/\", \"glacnet_splits/\")"
   ]
  },
  {
   "cell_type": "code",
   "execution_count": null,
   "metadata": {},
   "outputs": [],
   "source": []
  }
 ],
 "metadata": {
  "kernelspec": {
   "display_name": "Python [conda env:dl]",
   "language": "python",
   "name": "conda-env-dl-py"
  },
  "language_info": {
   "codemirror_mode": {
    "name": "ipython",
    "version": 3
   },
   "file_extension": ".py",
   "mimetype": "text/x-python",
   "name": "python",
   "nbconvert_exporter": "python",
   "pygments_lexer": "ipython3",
   "version": "3.6.3"
  }
 },
 "nbformat": 4,
 "nbformat_minor": 2
}
