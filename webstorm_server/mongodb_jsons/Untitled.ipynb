{
 "cells": [
  {
   "cell_type": "code",
   "execution_count": 18,
   "metadata": {},
   "outputs": [],
   "source": [
    "import json\n",
    "import pickle as pkl"
   ]
  },
  {
   "cell_type": "code",
   "execution_count": 35,
   "metadata": {},
   "outputs": [],
   "source": [
    "with open('glacnet_temporal.json', 'rb') as infile:    \n",
    "    json_block = [json.loads(line.decode('utf-8')) for line in infile]        \n",
    "                  \n",
    "            \n",
    "            "
   ]
  },
  {
   "cell_type": "code",
   "execution_count": 40,
   "metadata": {},
   "outputs": [
    {
     "data": {
      "text/plain": [
       "{'__v': 0,\n",
       " '_id': {'$oid': '5b87bbf4e940f802baaec95e'},\n",
       " 'coherent0': 3,\n",
       " 'coherent1': 3,\n",
       " 'coherent2': 3,\n",
       " 'coherent3': 3,\n",
       " 'coherent4': 3,\n",
       " 'detailed0': 3,\n",
       " 'detailed1': 3,\n",
       " 'detailed2': 3,\n",
       " 'detailed3': 3,\n",
       " 'detailed4': 3,\n",
       " 'focused0': 3,\n",
       " 'focused1': 3,\n",
       " 'focused2': 3,\n",
       " 'focused3': 3,\n",
       " 'focused4': 3,\n",
       " 'grounded0': 3,\n",
       " 'grounded1': 3,\n",
       " 'grounded2': 3,\n",
       " 'grounded3': 3,\n",
       " 'grounded4': 3,\n",
       " 'human0': 3,\n",
       " 'human1': 3,\n",
       " 'human2': 3,\n",
       " 'human3': 3,\n",
       " 'human4': 3,\n",
       " 'share0': 3,\n",
       " 'share1': 3,\n",
       " 'share2': 3,\n",
       " 'share3': 3,\n",
       " 'share4': 3,\n",
       " 'submission_key': 'wcNiWms4Tx',\n",
       " 'time_spent': 59.489}"
      ]
     },
     "execution_count": 40,
     "metadata": {},
     "output_type": "execute_result"
    }
   ],
   "source": [
    "json_block[0]"
   ]
  },
  {
   "cell_type": "code",
   "execution_count": 23,
   "metadata": {},
   "outputs": [
    {
     "data": {
      "text/plain": [
       "'b\\'{\"_id\":{\"$oid\":\"5b87bbf4e940f802baaec95e\"},\"submission_key\":\"wcNiWms4Tx\",\"time_spent\":59.489,\"focused0\":3,\"coherent0\":3,\"share0\":3,\"human0\":3,\"grounded0\":3,\"detailed0\":3,\"focused1\":3,\"coherent1\":3,\"share1\":3,\"human1\":3,\"grounded1\":3,\"detailed1\":3,\"focused2\":3,\"coherent2\":3,\"share2\":3,\"human2\":3,\"grounded2\":3,\"detailed2\":3,\"focused3\":3,\"coherent3\":3,\"share3\":3,\"human3\":3,\"grounded3\":3,\"detailed3\":3,\"focused4\":3,\"coherent4\":3,\"share4\":3,\"human4\":3,\"grounded4\":3,\"detailed4\":3,\"__v\":0}\\\\n\\''"
      ]
     },
     "execution_count": 23,
     "metadata": {},
     "output_type": "execute_result"
    }
   ],
   "source": []
  },
  {
   "cell_type": "code",
   "execution_count": null,
   "metadata": {},
   "outputs": [],
   "source": []
  },
  {
   "cell_type": "code",
   "execution_count": null,
   "metadata": {},
   "outputs": [],
   "source": []
  },
  {
   "cell_type": "code",
   "execution_count": null,
   "metadata": {},
   "outputs": [],
   "source": []
  },
  {
   "cell_type": "code",
   "execution_count": null,
   "metadata": {},
   "outputs": [],
   "source": []
  },
  {
   "cell_type": "code",
   "execution_count": null,
   "metadata": {},
   "outputs": [],
   "source": []
  },
  {
   "cell_type": "code",
   "execution_count": null,
   "metadata": {},
   "outputs": [],
   "source": []
  },
  {
   "cell_type": "code",
   "execution_count": null,
   "metadata": {},
   "outputs": [],
   "source": []
  },
  {
   "cell_type": "code",
   "execution_count": null,
   "metadata": {},
   "outputs": [],
   "source": []
  },
  {
   "cell_type": "code",
   "execution_count": null,
   "metadata": {},
   "outputs": [],
   "source": []
  },
  {
   "cell_type": "code",
   "execution_count": null,
   "metadata": {},
   "outputs": [],
   "source": [
    "import json, pandas as pd\n",
    "\n",
    "with open('path_to_your_json_file', 'rb') as infile:\n",
    "    json_block = []\n",
    "    dictlist=[]\n",
    "    for line in infile:\n",
    "        json_block.append(line)\n",
    "        if line.startswith('}'):\n",
    "            json_dict = json.loads(''.join(json_block))\n",
    "            dictlist.append(json_dict)\n",
    "            json_block = []\n",
    "\n",
    "df = pd.DataFrame(jsonlist)\n",
    "df.to_csv('out.csv',encoding='utf-8')"
   ]
  }
 ],
 "metadata": {
  "kernelspec": {
   "display_name": "Python [conda env:dl]",
   "language": "python",
   "name": "conda-env-dl-py"
  },
  "language_info": {
   "codemirror_mode": {
    "name": "ipython",
    "version": 3
   },
   "file_extension": ".py",
   "mimetype": "text/x-python",
   "name": "python",
   "nbconvert_exporter": "python",
   "pygments_lexer": "ipython3",
   "version": "3.6.3"
  }
 },
 "nbformat": 4,
 "nbformat_minor": 2
}
